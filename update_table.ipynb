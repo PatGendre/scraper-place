{
 "cells": [
  {
   "cell_type": "code",
   "execution_count": 23,
   "metadata": {},
   "outputs": [],
   "source": [
    "import datetime\n",
    "import re\n",
    "import configparser\n",
    "import os\n",
    "\n",
    "import psycopg2\n",
    "\n",
    "import fetch"
   ]
  },
  {
   "cell_type": "code",
   "execution_count": 111,
   "metadata": {},
   "outputs": [
    {
     "data": {
      "text/plain": [
       "<module 'fetch' from '/home/michel/scraper-place/fetch.py'>"
      ]
     },
     "execution_count": 111,
     "metadata": {},
     "output_type": "execute_result"
    }
   ],
   "source": [
    "import importlib \n",
    "importlib.reload(fetch)"
   ]
  },
  {
   "cell_type": "code",
   "execution_count": 24,
   "metadata": {},
   "outputs": [
    {
     "data": {
      "text/plain": [
       "'/home/michel/scraper-place'"
      ]
     },
     "execution_count": 24,
     "metadata": {},
     "output_type": "execute_result"
    }
   ],
   "source": [
    "#base_dir = os.path.dirname(os.path.realpath(__file__))\n",
    "base_dir = os.getcwd()  # notebook\n",
    "base_dir"
   ]
  },
  {
   "cell_type": "code",
   "execution_count": 25,
   "metadata": {},
   "outputs": [],
   "source": [
    "# Read config\n",
    "\n",
    "config = configparser.ConfigParser()\n",
    "config_path = os.path.join(base_dir, 'config.ini')\n",
    "config.read(config_path)\n",
    "database_host = config['database']['host']\n",
    "database_port = config['database']['port']\n",
    "database_name = config['database']['name']\n",
    "database_username = config['database']['username']\n",
    "database_password = config['database']['password']\n",
    "assert database_host == 'localhost'\n",
    "assert database_port == '1234'"
   ]
  },
  {
   "cell_type": "code",
   "execution_count": 102,
   "metadata": {},
   "outputs": [],
   "source": [
    "# Open connection\n",
    "connection = psycopg2.connect(dbname=database_name, user=database_username, password=database_password)\n",
    "cursor = connection.cursor()"
   ]
  },
  {
   "cell_type": "code",
   "execution_count": 103,
   "metadata": {},
   "outputs": [],
   "source": [
    "def process_link(link, connection, cursor):\n",
    "    annonce_id, org_acronym = re.match(fetch.link_regex, link).groups()\n",
    "    \n",
    "    cursor.execute(\"SELECT annonce_id, org_acronym FROM dce WHERE annonce_id = %s AND org_acronym = %s;\", (annonce_id, org_acronym))\n",
    "    results = cursor.fetchall()\n",
    "    \n",
    "    if results:\n",
    "        return\n",
    "    \n",
    "    (annonce_id, org_acronym, links_boamp,\n",
    "        reference, intitule, objet, reglement_ref,\n",
    "        filename_reglement, reglement, filename_complement,\n",
    "        complement, filename_avis, avis, filename_dce, dce) = fetch.fetch_data(link)\n",
    "    now = datetime.datetime.now()\n",
    "    \n",
    "    cursor.execute(\"\"\"\n",
    "        INSERT INTO dce (\n",
    "            annonce_id, org_acronym, links_boamp,\n",
    "            reference, intitule, objet,\n",
    "            reglement_ref, filename_reglement, filename_complement, filename_avis, filename_dce,\n",
    "            fetch_datetime, reglement, complement, avis, dce\n",
    "            )\n",
    "            VALUES (\n",
    "            %s, %s, %s,\n",
    "            %s, %s, %s,\n",
    "            %s, %s, %s, %s, %s,\n",
    "            %s, %s, %s, %s, %s\n",
    "           )\"\"\",\n",
    "        (\n",
    "            annonce_id, org_acronym, links_boamp,\n",
    "            reference, intitule, objet,\n",
    "            reglement_ref, filename_reglement, filename_complement, filename_avis, filename_dce,\n",
    "            now, reglement, complement, avis, dce,\n",
    "            )\n",
    "        )\n",
    "    connection.commit()\n"
   ]
  },
  {
   "cell_type": "code",
   "execution_count": 105,
   "metadata": {},
   "outputs": [],
   "source": [
    "#links = fetch.fetch_current_annonces()"
   ]
  },
  {
   "cell_type": "code",
   "execution_count": null,
   "metadata": {},
   "outputs": [],
   "source": [
    "for link in links:\n",
    "    process_link(link, connection, cursor)"
   ]
  },
  {
   "cell_type": "code",
   "execution_count": 101,
   "metadata": {},
   "outputs": [],
   "source": [
    "cursor.close()\n",
    "connection.close()"
   ]
  },
  {
   "cell_type": "code",
   "execution_count": null,
   "metadata": {},
   "outputs": [],
   "source": []
  },
  {
   "cell_type": "code",
   "execution_count": 78,
   "metadata": {},
   "outputs": [
    {
     "data": {
      "text/plain": [
       "'https://www.marches-publics.gouv.fr/?page=entreprise.EntrepriseDetailConsultation&refConsultation=339793&orgAcronyme=g7h'"
      ]
     },
     "execution_count": 78,
     "metadata": {},
     "output_type": "execute_result"
    }
   ],
   "source": [
    "# complement mais pas de reglement :\n",
    "link"
   ]
  },
  {
   "cell_type": "code",
   "execution_count": 108,
   "metadata": {},
   "outputs": [
    {
     "data": {
      "text/plain": [
       "'https://www.marches-publics.gouv.fr/?page=entreprise.EntrepriseDetailConsultation&refConsultation=310484&orgAcronyme=t9y'"
      ]
     },
     "execution_count": 108,
     "metadata": {},
     "output_type": "execute_result"
    }
   ],
   "source": [
    "link"
   ]
  },
  {
   "cell_type": "code",
   "execution_count": null,
   "metadata": {},
   "outputs": [],
   "source": []
  }
 ],
 "metadata": {
  "kernelspec": {
   "display_name": "Python 3",
   "language": "python",
   "name": "python3"
  },
  "language_info": {
   "codemirror_mode": {
    "name": "ipython",
    "version": 3
   },
   "file_extension": ".py",
   "mimetype": "text/x-python",
   "name": "python",
   "nbconvert_exporter": "python",
   "pygments_lexer": "ipython3",
   "version": "3.5.3"
  }
 },
 "nbformat": 4,
 "nbformat_minor": 2
}
