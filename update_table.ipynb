{
 "cells": [
  {
   "cell_type": "code",
   "execution_count": 2,
   "metadata": {},
   "outputs": [],
   "source": [
    "import datetime\n",
    "import re\n",
    "import configparser\n",
    "import os\n",
    "\n",
    "import psycopg2\n",
    "\n",
    "import fetch"
   ]
  },
  {
   "cell_type": "code",
   "execution_count": 113,
   "metadata": {},
   "outputs": [
    {
     "data": {
      "text/plain": [
       "<module 'fetch' from '/home/michel/scraper-place/fetch.py'>"
      ]
     },
     "execution_count": 113,
     "metadata": {},
     "output_type": "execute_result"
    }
   ],
   "source": [
    "import importlib \n",
    "importlib.reload(fetch)"
   ]
  },
  {
   "cell_type": "code",
   "execution_count": 3,
   "metadata": {},
   "outputs": [
    {
     "data": {
      "text/plain": [
       "'/home/michel/scraper-place'"
      ]
     },
     "execution_count": 3,
     "metadata": {},
     "output_type": "execute_result"
    }
   ],
   "source": [
    "#base_dir = os.path.dirname(os.path.realpath(__file__))\n",
    "base_dir = os.getcwd()  # notebook\n",
    "base_dir"
   ]
  },
  {
   "cell_type": "code",
   "execution_count": 5,
   "metadata": {},
   "outputs": [],
   "source": [
    "# Read config\n",
    "\n",
    "config = configparser.ConfigParser()\n",
    "config_path = os.path.join(base_dir, 'config.ini')\n",
    "config.read(config_path)\n",
    "database_host = config['database']['host']\n",
    "database_port = config['database']['port']\n",
    "database_name = config['database']['name']\n",
    "database_username = config['database']['username']\n",
    "database_password = config['database']['password']\n",
    "assert database_host == 'localhost'\n",
    "assert database_port == '1234'\n",
    "\n",
    "file_storage_dir = config['file_storage']['dir']\n"
   ]
  },
  {
   "cell_type": "code",
   "execution_count": 7,
   "metadata": {},
   "outputs": [],
   "source": [
    "# Open connection\n",
    "connection = psycopg2.connect(dbname=database_name, user=database_username, password=database_password)\n",
    "cursor = connection.cursor()"
   ]
  },
  {
   "cell_type": "code",
   "execution_count": 8,
   "metadata": {},
   "outputs": [],
   "source": [
    "def process_link(link, connection, cursor):\n",
    "    annonce_id, org_acronym = re.match(fetch.link_regex, link).groups()\n",
    "    \n",
    "    cursor.execute(\"SELECT annonce_id, org_acronym FROM dce WHERE annonce_id = %s AND org_acronym = %s;\", (annonce_id, org_acronym))\n",
    "    results = cursor.fetchall()\n",
    "    \n",
    "    if results:\n",
    "        return\n",
    "    \n",
    "    (annonce_id, org_acronym, links_boamp,\n",
    "        reference, intitule, objet, reglement_ref,\n",
    "        filename_reglement, reglement, filename_complement,\n",
    "        complement, filename_avis, avis, filename_dce, dce) = fetch.fetch_data(link)\n",
    "    now = datetime.datetime.now()\n",
    "    \n",
    "    if reglement:\n",
    "        extention = os.path.splitext(filename_reglement)[1]\n",
    "        filename = '{}- {}-reglement.{}'.format(annonce_id, org_acronym, extention)\n",
    "        filepath = os.path.join(file_storage_dir, filename)\n",
    "        with open(filepath, 'wb') as f:\n",
    "            f.write(reglement)\n",
    "    \n",
    "    if avis:\n",
    "        extention = os.path.splitext(filename_avis)[1]\n",
    "        filename = '{}- {}-avis.{}'.format(annonce_id, org_acronym, extention)\n",
    "        filepath = os.path.join(file_storage_dir, filename)\n",
    "        with open(filepath, 'wb') as f:\n",
    "            f.write(avis)\n",
    "    \n",
    "    if complement:\n",
    "        extention = os.path.splitext(filename_complement)[1]\n",
    "        filename = '{}- {}-complement.{}'.format(annonce_id, org_acronym, extention)\n",
    "        filepath = os.path.join(file_storage_dir, filename)\n",
    "        with open(filepath, 'wb') as f:\n",
    "            f.write(complement)\n",
    "    \n",
    "    if dce:\n",
    "        extention = os.path.splitext(filename_dce)[1]\n",
    "        filename = '{}- {}-dce.{}'.format(annonce_id, org_acronym, extention)\n",
    "        filepath = os.path.join(file_storage_dir, filename)\n",
    "        with open(filepath, 'wb') as f:\n",
    "            f.write(dce)\n",
    "    \n",
    "    cursor.execute(\"\"\"\n",
    "        INSERT INTO dce (\n",
    "            annonce_id, org_acronym, links_boamp,\n",
    "            reference, intitule, objet,\n",
    "            reglement_ref, filename_reglement, filename_complement, filename_avis, filename_dce,\n",
    "            fetch_datetime\n",
    "            )\n",
    "            VALUES (\n",
    "            %s, %s, %s,\n",
    "            %s, %s, %s,\n",
    "            %s, %s, %s, %s, %s,\n",
    "            %s\n",
    "           )\"\"\",\n",
    "        (\n",
    "            annonce_id, org_acronym, links_boamp,\n",
    "            reference, intitule, objet,\n",
    "            reglement_ref, filename_reglement, filename_complement, filename_avis, filename_dce,\n",
    "            now,\n",
    "            )\n",
    "        )\n",
    "    connection.commit()\n"
   ]
  },
  {
   "cell_type": "code",
   "execution_count": null,
   "metadata": {},
   "outputs": [],
   "source": [
    "links = fetch.fetch_current_annonces()"
   ]
  },
  {
   "cell_type": "code",
   "execution_count": null,
   "metadata": {},
   "outputs": [],
   "source": [
    "len(links)"
   ]
  },
  {
   "cell_type": "code",
   "execution_count": 10,
   "metadata": {},
   "outputs": [
    {
     "ename": "NameError",
     "evalue": "name 'links' is not defined",
     "output_type": "error",
     "traceback": [
      "\u001b[0;31m---------------------------------------------------------------------------\u001b[0m",
      "\u001b[0;31mNameError\u001b[0m                                 Traceback (most recent call last)",
      "\u001b[0;32m<ipython-input-10-f6083f2e39f0>\u001b[0m in \u001b[0;36m<module>\u001b[0;34m()\u001b[0m\n\u001b[0;32m----> 1\u001b[0;31m \u001b[0;32mfor\u001b[0m \u001b[0mlink\u001b[0m \u001b[0;32min\u001b[0m \u001b[0mlinks\u001b[0m\u001b[0;34m:\u001b[0m\u001b[0;34m\u001b[0m\u001b[0m\n\u001b[0m\u001b[1;32m      2\u001b[0m     \u001b[0mprocess_link\u001b[0m\u001b[0;34m(\u001b[0m\u001b[0mlink\u001b[0m\u001b[0;34m,\u001b[0m \u001b[0mconnection\u001b[0m\u001b[0;34m,\u001b[0m \u001b[0mcursor\u001b[0m\u001b[0;34m)\u001b[0m\u001b[0;34m\u001b[0m\u001b[0m\n",
      "\u001b[0;31mNameError\u001b[0m: name 'links' is not defined"
     ]
    }
   ],
   "source": [
    "for link in links:\n",
    "    process_link(link, connection, cursor)"
   ]
  },
  {
   "cell_type": "code",
   "execution_count": 101,
   "metadata": {},
   "outputs": [],
   "source": [
    "cursor.close()\n",
    "connection.close()"
   ]
  },
  {
   "cell_type": "code",
   "execution_count": null,
   "metadata": {},
   "outputs": [],
   "source": []
  },
  {
   "cell_type": "code",
   "execution_count": 78,
   "metadata": {},
   "outputs": [
    {
     "data": {
      "text/plain": [
       "'https://www.marches-publics.gouv.fr/?page=entreprise.EntrepriseDetailConsultation&refConsultation=339793&orgAcronyme=g7h'"
      ]
     },
     "execution_count": 78,
     "metadata": {},
     "output_type": "execute_result"
    }
   ],
   "source": [
    "# complement mais pas de reglement :\n",
    "link"
   ]
  },
  {
   "cell_type": "code",
   "execution_count": 119,
   "metadata": {},
   "outputs": [
    {
     "data": {
      "text/plain": [
       "'https://www.marches-publics.gouv.fr/?page=entreprise.EntrepriseDetailConsultation&refConsultation=340040&orgAcronyme=s2d'"
      ]
     },
     "execution_count": 119,
     "metadata": {},
     "output_type": "execute_result"
    }
   ],
   "source": [
    "link"
   ]
  },
  {
   "cell_type": "code",
   "execution_count": 116,
   "metadata": {},
   "outputs": [],
   "source": [
    "annonce_id, org_acronym = re.match(fetch.link_regex, link).groups()\n",
    "    "
   ]
  },
  {
   "cell_type": "code",
   "execution_count": 117,
   "metadata": {},
   "outputs": [],
   "source": [
    "(annonce_id, org_acronym, links_boamp,\n",
    "        reference, intitule, objet, reglement_ref,\n",
    "        filename_reglement, reglement, filename_complement,\n",
    "        complement, filename_avis, avis, filename_dce, dce) = fetch.fetch_data(link)"
   ]
  },
  {
   "cell_type": "code",
   "execution_count": 118,
   "metadata": {},
   "outputs": [
    {
     "data": {
      "text/plain": [
       "671199771"
      ]
     },
     "execution_count": 118,
     "metadata": {},
     "output_type": "execute_result"
    }
   ],
   "source": [
    "len(dce)"
   ]
  },
  {
   "cell_type": "code",
   "execution_count": null,
   "metadata": {},
   "outputs": [],
   "source": []
  }
 ],
 "metadata": {
  "kernelspec": {
   "display_name": "Python 3",
   "language": "python",
   "name": "python3"
  },
  "language_info": {
   "codemirror_mode": {
    "name": "ipython",
    "version": 3
   },
   "file_extension": ".py",
   "mimetype": "text/x-python",
   "name": "python",
   "nbconvert_exporter": "python",
   "pygments_lexer": "ipython3",
   "version": "3.5.3"
  }
 },
 "nbformat": 4,
 "nbformat_minor": 2
}
