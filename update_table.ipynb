{
 "cells": [
  {
   "cell_type": "code",
   "execution_count": 8,
   "metadata": {},
   "outputs": [],
   "source": [
    "import datetime\n",
    "import re\n",
    "import configparser\n",
    "import os\n",
    "\n",
    "import psycopg2\n",
    "\n",
    "import fetch"
   ]
  },
  {
   "cell_type": "code",
   "execution_count": 33,
   "metadata": {},
   "outputs": [
    {
     "data": {
      "text/plain": [
       "<module 'fetch' from '/home/michel/scraper-place/fetch.py'>"
      ]
     },
     "execution_count": 33,
     "metadata": {},
     "output_type": "execute_result"
    }
   ],
   "source": [
    "import importlib \n",
    "importlib.reload(fetch)"
   ]
  },
  {
   "cell_type": "code",
   "execution_count": 10,
   "metadata": {},
   "outputs": [
    {
     "data": {
      "text/plain": [
       "'/home/michel/scraper-place'"
      ]
     },
     "execution_count": 10,
     "metadata": {},
     "output_type": "execute_result"
    }
   ],
   "source": [
    "#base_dir = os.path.dirname(os.path.realpath(__file__))\n",
    "base_dir = os.getcwd()  # notebook\n",
    "base_dir"
   ]
  },
  {
   "cell_type": "code",
   "execution_count": 11,
   "metadata": {},
   "outputs": [],
   "source": [
    "# Read config\n",
    "\n",
    "config = configparser.ConfigParser()\n",
    "config_path = os.path.join(base_dir, 'config.ini')\n",
    "config.read(config_path)\n",
    "database_host = config['database']['host']\n",
    "database_port = config['database']['port']\n",
    "database_name = config['database']['name']\n",
    "database_username = config['database']['username']\n",
    "database_password = config['database']['password']\n",
    "assert database_host == 'localhost'\n",
    "assert database_port == '1234'\n",
    "\n",
    "file_storage_dir = config['file_storage']['dir']\n"
   ]
  },
  {
   "cell_type": "code",
   "execution_count": 26,
   "metadata": {},
   "outputs": [],
   "source": [
    "# Open connection\n",
    "connection = psycopg2.connect(dbname=database_name, user=database_username, password=database_password)\n",
    "cursor = connection.cursor()"
   ]
  },
  {
   "cell_type": "code",
   "execution_count": 27,
   "metadata": {},
   "outputs": [],
   "source": [
    "def process_link(link, connection, cursor):\n",
    "    annonce_id, org_acronym = re.match(fetch.link_regex, link).groups()\n",
    "    \n",
    "    cursor.execute(\"SELECT annonce_id, org_acronym FROM dce WHERE annonce_id = %s AND org_acronym = %s;\", (annonce_id, org_acronym))\n",
    "    results = cursor.fetchall()\n",
    "    \n",
    "    if results:\n",
    "        return\n",
    "    \n",
    "    (annonce_id, org_acronym, links_boamp,\n",
    "        reference, intitule, objet, reglement_ref,\n",
    "        filename_reglement, reglement, filename_complement,\n",
    "        complement, filename_avis, avis, filename_dce, dce) = fetch.fetch_data(link)\n",
    "    now = datetime.datetime.now()\n",
    "    \n",
    "    if reglement:\n",
    "        extention = os.path.splitext(filename_reglement)[1]\n",
    "        filename = '{}-{}-reglement{}'.format(annonce_id, org_acronym, extention)\n",
    "        filepath = os.path.join(file_storage_dir, filename)\n",
    "        with open(filepath, 'wb') as f:\n",
    "            f.write(reglement)\n",
    "    \n",
    "    if avis:\n",
    "        extention = os.path.splitext(filename_avis)[1]\n",
    "        filename = '{}-{}-avis{}'.format(annonce_id, org_acronym, extention)\n",
    "        filepath = os.path.join(file_storage_dir, filename)\n",
    "        with open(filepath, 'wb') as f:\n",
    "            f.write(avis)\n",
    "    \n",
    "    if complement:\n",
    "        extention = os.path.splitext(filename_complement)[1]\n",
    "        filename = '{}-{}-complement{}'.format(annonce_id, org_acronym, extention)\n",
    "        filepath = os.path.join(file_storage_dir, filename)\n",
    "        with open(filepath, 'wb') as f:\n",
    "            f.write(complement)\n",
    "    \n",
    "    if dce:\n",
    "        extention = os.path.splitext(filename_dce)[1]\n",
    "        filename = '{}-{}-dce{}'.format(annonce_id, org_acronym, extention)\n",
    "        filepath = os.path.join(file_storage_dir, filename)\n",
    "        with open(filepath, 'wb') as f:\n",
    "            f.write(dce)\n",
    "    \n",
    "    cursor.execute(\"\"\"\n",
    "        INSERT INTO dce (\n",
    "            annonce_id, org_acronym, links_boamp,\n",
    "            reference, intitule, objet,\n",
    "            reglement_ref, filename_reglement, filename_complement, filename_avis, filename_dce,\n",
    "            fetch_datetime\n",
    "            )\n",
    "            VALUES (\n",
    "            %s, %s, %s,\n",
    "            %s, %s, %s,\n",
    "            %s, %s, %s, %s, %s,\n",
    "            %s\n",
    "           )\"\"\",\n",
    "        (\n",
    "            annonce_id, org_acronym, links_boamp,\n",
    "            reference, intitule, objet,\n",
    "            reglement_ref, filename_reglement, filename_complement, filename_avis, filename_dce,\n",
    "            now,\n",
    "            )\n",
    "        )\n",
    "    connection.commit()\n"
   ]
  },
  {
   "cell_type": "code",
   "execution_count": 14,
   "metadata": {},
   "outputs": [
    {
     "name": "stdout",
     "output_type": "stream",
     "text": [
      "Warning: ['https://www.marches-publics.gouv.fr/?page=entreprise.EntrepriseDetailConsultation&refConsultation=352728&orgAcronyme=g7h', 'https://www.marches-publics.gouv.fr/?page=entreprise.EntrepriseDetailConsultation&refConsultation=349385&orgAcronyme=d4t', 'https://www.marches-publics.gouv.fr/?page=entreprise.EntrepriseDetailConsultation&refConsultation=341922&orgAcronyme=h8j', 'https://www.marches-publics.gouv.fr/?page=entreprise.EntrepriseDetailConsultation&refConsultation=348847&orgAcronyme=x7c', 'https://www.marches-publics.gouv.fr/?page=entreprise.EntrepriseDetailConsultation&refConsultation=351747&orgAcronyme=h8j', 'https://www.marches-publics.gouv.fr/?page=entreprise.EntrepriseDetailConsultation&refConsultation=353440&orgAcronyme=f2h', 'https://www.marches-publics.gouv.fr/?page=entreprise.EntrepriseDetailConsultation&refConsultation=350688&orgAcronyme=d4t', 'https://www.marches-publics.gouv.fr/?page=entreprise.EntrepriseDetailConsultation&refConsultation=349360&orgAcronyme=d4t', 'https://www.marches-publics.gouv.fr/?page=entreprise.EntrepriseDetailConsultation&refConsultation=348051&orgAcronyme=g6l', 'https://www.marches-publics.gouv.fr/?page=entreprise.EntrepriseDetailConsultation&refConsultation=348057&orgAcronyme=g6l', 'https://www.marches-publics.gouv.fr/?page=entreprise.EntrepriseDetailConsultation&refConsultation=350852&orgAcronyme=x7c', 'https://www.marches-publics.gouv.fr/?page=entreprise.EntrepriseDetailConsultation&refConsultation=349902&orgAcronyme=l2m', 'https://www.marches-publics.gouv.fr/?page=entreprise.EntrepriseDetailConsultation&refConsultation=351544&orgAcronyme=f5j', 'https://www.marches-publics.gouv.fr/?page=entreprise.EntrepriseDetailConsultation&refConsultation=350033&orgAcronyme=l2m', 'https://www.marches-publics.gouv.fr/?page=entreprise.EntrepriseDetailConsultation&refConsultation=346202&orgAcronyme=g7h', 'https://www.marches-publics.gouv.fr/?page=entreprise.EntrepriseDetailConsultation&refConsultation=353524&orgAcronyme=f2h', 'https://www.marches-publics.gouv.fr/?page=entreprise.EntrepriseDetailConsultation&refConsultation=351213&orgAcronyme=f0g', 'https://www.marches-publics.gouv.fr/?page=entreprise.EntrepriseDetailConsultation&refConsultation=350489&orgAcronyme=g7h', 'https://www.marches-publics.gouv.fr/?page=entreprise.EntrepriseDetailConsultation&refConsultation=351206&orgAcronyme=x7c', 'https://www.marches-publics.gouv.fr/?page=entreprise.EntrepriseDetailConsultation&refConsultation=349765&orgAcronyme=l2m', 'https://www.marches-publics.gouv.fr/?page=entreprise.EntrepriseDetailConsultation&refConsultation=353088&orgAcronyme=x7c', 'https://www.marches-publics.gouv.fr/?page=entreprise.EntrepriseDetailConsultation&refConsultation=349420&orgAcronyme=x7c', 'https://www.marches-publics.gouv.fr/?page=entreprise.EntrepriseDetailConsultation&refConsultation=352957&orgAcronyme=f2h', 'https://www.marches-publics.gouv.fr/?page=entreprise.EntrepriseDetailConsultation&refConsultation=350871&orgAcronyme=d3f', 'https://www.marches-publics.gouv.fr/?page=entreprise.EntrepriseDetailConsultation&refConsultation=350861&orgAcronyme=l2m', 'https://www.marches-publics.gouv.fr/?page=entreprise.EntrepriseDetailConsultation&refConsultation=353567&orgAcronyme=f5j', 'https://www.marches-publics.gouv.fr/?page=entreprise.EntrepriseDetailConsultation&refConsultation=353634&orgAcronyme=f2h', 'https://www.marches-publics.gouv.fr/?page=entreprise.EntrepriseDetailConsultation&refConsultation=353205&orgAcronyme=d3f', 'https://www.marches-publics.gouv.fr/?page=entreprise.EntrepriseDetailConsultation&refConsultation=351624&orgAcronyme=f0g', 'https://www.marches-publics.gouv.fr/?page=entreprise.EntrepriseDetailConsultation&refConsultation=353552&orgAcronyme=b4n', 'https://www.marches-publics.gouv.fr/?page=entreprise.EntrepriseDetailConsultation&refConsultation=349109&orgAcronyme=l2m', 'https://www.marches-publics.gouv.fr/?page=entreprise.EntrepriseDetailConsultation&refConsultation=351065&orgAcronyme=g7h', 'https://www.marches-publics.gouv.fr/?page=entreprise.EntrepriseDetailConsultation&refConsultation=350323&orgAcronyme=s2d', 'https://www.marches-publics.gouv.fr/?page=entreprise.EntrepriseDetailConsultation&refConsultation=351412&orgAcronyme=s2d', 'https://www.marches-publics.gouv.fr/?page=entreprise.EntrepriseDetailConsultation&refConsultation=353351&orgAcronyme=h8j', 'https://www.marches-publics.gouv.fr/?page=entreprise.EntrepriseDetailConsultation&refConsultation=349920&orgAcronyme=f2h', 'https://www.marches-publics.gouv.fr/?page=entreprise.EntrepriseDetailConsultation&refConsultation=349605&orgAcronyme=x7c', 'https://www.marches-publics.gouv.fr/?page=entreprise.EntrepriseDetailConsultation&refConsultation=352608&orgAcronyme=f5j', 'https://www.marches-publics.gouv.fr/?page=entreprise.EntrepriseDetailConsultation&refConsultation=348930&orgAcronyme=g6l', 'https://www.marches-publics.gouv.fr/?page=entreprise.EntrepriseDetailConsultation&refConsultation=348446&orgAcronyme=s2d', 'https://www.marches-publics.gouv.fr/?page=entreprise.EntrepriseDetailConsultation&refConsultation=352009&orgAcronyme=f5j', 'https://www.marches-publics.gouv.fr/?page=entreprise.EntrepriseDetailConsultation&refConsultation=352004&orgAcronyme=d3f', 'https://www.marches-publics.gouv.fr/?page=entreprise.EntrepriseDetailConsultation&refConsultation=350258&orgAcronyme=x7c', 'https://www.marches-publics.gouv.fr/?page=entreprise.EntrepriseDetailConsultation&refConsultation=353587&orgAcronyme=f2h', 'https://www.marches-publics.gouv.fr/?page=entreprise.EntrepriseDetailConsultation&refConsultation=353495&orgAcronyme=d3f', 'https://www.marches-publics.gouv.fr/?page=entreprise.EntrepriseDetailConsultation&refConsultation=341061&orgAcronyme=g7h', 'https://www.marches-publics.gouv.fr/?page=entreprise.EntrepriseDetailConsultation&refConsultation=352204&orgAcronyme=g6l', 'https://www.marches-publics.gouv.fr/?page=entreprise.EntrepriseDetailConsultation&refConsultation=353060&orgAcronyme=d4t', 'https://www.marches-publics.gouv.fr/?page=entreprise.EntrepriseDetailConsultation&refConsultation=349452&orgAcronyme=h8j', 'https://www.marches-publics.gouv.fr/?page=entreprise.EntrepriseDetailConsultation&refConsultation=351830&orgAcronyme=g6l', 'https://www.marches-publics.gouv.fr/?page=entreprise.EntrepriseDetailConsultation&refConsultation=352577&orgAcronyme=x7c', 'https://www.marches-publics.gouv.fr/?page=entreprise.EntrepriseDetailConsultation&refConsultation=352668&orgAcronyme=h8j', 'https://www.marches-publics.gouv.fr/?page=entreprise.EntrepriseDetailConsultation&refConsultation=351364&orgAcronyme=s2d', 'https://www.marches-publics.gouv.fr/?page=entreprise.EntrepriseDetailConsultation&refConsultation=351909&orgAcronyme=g6l', 'https://www.marches-publics.gouv.fr/?page=entreprise.EntrepriseDetailConsultation&refConsultation=351696&orgAcronyme=b4n', 'https://www.marches-publics.gouv.fr/?page=entreprise.EntrepriseDetailConsultation&refConsultation=350533&orgAcronyme=d4t', 'https://www.marches-publics.gouv.fr/?page=entreprise.EntrepriseDetailConsultation&refConsultation=351014&orgAcronyme=d3f', 'https://www.marches-publics.gouv.fr/?page=entreprise.EntrepriseDetailConsultation&refConsultation=352866&orgAcronyme=f2h', 'https://www.marches-publics.gouv.fr/?page=entreprise.EntrepriseDetailConsultation&refConsultation=352632&orgAcronyme=s2d', 'https://www.marches-publics.gouv.fr/?page=entreprise.EntrepriseDetailConsultation&refConsultation=353144&orgAcronyme=d4t', 'https://www.marches-publics.gouv.fr/?page=entreprise.EntrepriseDetailConsultation&refConsultation=353251&orgAcronyme=g6l', 'https://www.marches-publics.gouv.fr/?page=entreprise.EntrepriseDetailConsultation&refConsultation=350320&orgAcronyme=x7c', 'https://www.marches-publics.gouv.fr/?page=entreprise.EntrepriseDetailConsultation&refConsultation=353153&orgAcronyme=d4t', 'https://www.marches-publics.gouv.fr/?page=entreprise.EntrepriseDetailConsultation&refConsultation=351155&orgAcronyme=d4t', 'https://www.marches-publics.gouv.fr/?page=entreprise.EntrepriseDetailConsultation&refConsultation=351818&orgAcronyme=f2h', 'https://www.marches-publics.gouv.fr/?page=entreprise.EntrepriseDetailConsultation&refConsultation=352527&orgAcronyme=f2h', 'https://www.marches-publics.gouv.fr/?page=entreprise.EntrepriseDetailConsultation&refConsultation=353442&orgAcronyme=f5j', 'https://www.marches-publics.gouv.fr/?page=entreprise.EntrepriseDetailConsultation&refConsultation=350071&orgAcronyme=a4n', 'https://www.marches-publics.gouv.fr/?page=entreprise.EntrepriseDetailConsultation&refConsultation=353125&orgAcronyme=f0g', 'https://www.marches-publics.gouv.fr/?page=entreprise.EntrepriseDetailConsultation&refConsultation=350648&orgAcronyme=l2m', 'https://www.marches-publics.gouv.fr/?page=entreprise.EntrepriseDetailConsultation&refConsultation=351833&orgAcronyme=x7c', 'https://www.marches-publics.gouv.fr/?page=entreprise.EntrepriseDetailConsultation&refConsultation=352265&orgAcronyme=g7h', 'https://www.marches-publics.gouv.fr/?page=entreprise.EntrepriseDetailConsultation&refConsultation=351307&orgAcronyme=s2d', 'https://www.marches-publics.gouv.fr/?page=entreprise.EntrepriseDetailConsultation&refConsultation=351136&orgAcronyme=f2h', 'https://www.marches-publics.gouv.fr/?page=entreprise.EntrepriseDetailConsultation&refConsultation=353105&orgAcronyme=d4t', 'https://www.marches-publics.gouv.fr/?page=entreprise.EntrepriseDetailConsultation&refConsultation=352279&orgAcronyme=f2h', 'https://www.marches-publics.gouv.fr/?page=entreprise.EntrepriseDetailConsultation&refConsultation=340282&orgAcronyme=f2h', 'https://www.marches-publics.gouv.fr/?page=entreprise.EntrepriseDetailConsultation&refConsultation=352902&orgAcronyme=d3f', 'https://www.marches-publics.gouv.fr/?page=entreprise.EntrepriseDetailConsultation&refConsultation=352994&orgAcronyme=l2m', 'https://www.marches-publics.gouv.fr/?page=entreprise.EntrepriseDetailConsultation&refConsultation=350829&orgAcronyme=d3f', 'https://www.marches-publics.gouv.fr/?page=entreprise.EntrepriseDetailConsultation&refConsultation=353145&orgAcronyme=d4t', 'https://www.marches-publics.gouv.fr/?page=entreprise.EntrepriseDetailConsultation&refConsultation=352864&orgAcronyme=x7c', 'https://www.marches-publics.gouv.fr/?page=entreprise.EntrepriseDetailConsultation&refConsultation=353320&orgAcronyme=g7h', 'https://www.marches-publics.gouv.fr/?page=entreprise.EntrepriseDetailConsultation&refConsultation=350009&orgAcronyme=g7h', 'https://www.marches-publics.gouv.fr/?page=entreprise.EntrepriseDetailConsultation&refConsultation=352065&orgAcronyme=d3f', 'https://www.marches-publics.gouv.fr/?page=entreprise.EntrepriseDetailConsultation&refConsultation=353045&orgAcronyme=f2h', 'https://www.marches-publics.gouv.fr/?page=entreprise.EntrepriseDetailConsultation&refConsultation=350798&orgAcronyme=x7c', 'https://www.marches-publics.gouv.fr/?page=entreprise.EntrepriseDetailConsultation&refConsultation=352393&orgAcronyme=g7h', 'https://www.marches-publics.gouv.fr/?page=entreprise.EntrepriseDetailConsultation&refConsultation=346930&orgAcronyme=x7c', 'https://www.marches-publics.gouv.fr/?page=entreprise.EntrepriseDetailConsultation&refConsultation=350821&orgAcronyme=x7c', 'https://www.marches-publics.gouv.fr/?page=entreprise.EntrepriseDetailConsultation&refConsultation=329426&orgAcronyme=d4t', 'https://www.marches-publics.gouv.fr/?page=entreprise.EntrepriseDetailConsultation&refConsultation=352839&orgAcronyme=a4n', 'https://www.marches-publics.gouv.fr/?page=entreprise.EntrepriseDetailConsultation&refConsultation=350143&orgAcronyme=d4t', 'https://www.marches-publics.gouv.fr/?page=entreprise.EntrepriseDetailConsultation&refConsultation=349705&orgAcronyme=l2m', 'https://www.marches-publics.gouv.fr/?page=entreprise.EntrepriseDetailConsultation&refConsultation=353031&orgAcronyme=f2h', 'https://www.marches-publics.gouv.fr/?page=entreprise.EntrepriseDetailConsultation&refConsultation=352648&orgAcronyme=g6l', 'https://www.marches-publics.gouv.fr/?page=entreprise.EntrepriseDetailConsultation&refConsultation=352042&orgAcronyme=d3f', 'https://www.marches-publics.gouv.fr/?page=entreprise.EntrepriseDetailConsultation&refConsultation=351611&orgAcronyme=s2d', 'https://www.marches-publics.gouv.fr/?page=entreprise.EntrepriseDetailConsultation&refConsultation=350476&orgAcronyme=f2h', 'https://www.marches-publics.gouv.fr/?page=entreprise.EntrepriseDetailConsultation&refConsultation=351761&orgAcronyme=h8j', 'https://www.marches-publics.gouv.fr/?page=entreprise.EntrepriseDetailConsultation&refConsultation=350300&orgAcronyme=l2m', 'https://www.marches-publics.gouv.fr/?page=entreprise.EntrepriseDetailConsultation&refConsultation=348684&orgAcronyme=x7c', 'https://www.marches-publics.gouv.fr/?page=entreprise.EntrepriseDetailConsultation&refConsultation=349952&orgAcronyme=g6l', 'https://www.marches-publics.gouv.fr/?page=entreprise.EntrepriseDetailConsultation&refConsultation=350867&orgAcronyme=f2h', 'https://www.marches-publics.gouv.fr/?page=entreprise.EntrepriseDetailConsultation&refConsultation=351436&orgAcronyme=s2d', 'https://www.marches-publics.gouv.fr/?page=entreprise.EntrepriseDetailConsultation&refConsultation=350800&orgAcronyme=x7c', 'https://www.marches-publics.gouv.fr/?page=entreprise.EntrepriseDetailConsultation&refConsultation=347457&orgAcronyme=x7c', 'https://www.marches-publics.gouv.fr/?page=entreprise.EntrepriseDetailConsultation&refConsultation=347938&orgAcronyme=g7h', 'https://www.marches-publics.gouv.fr/?page=entreprise.EntrepriseDetailConsultation&refConsultation=352924&orgAcronyme=d3f', 'https://www.marches-publics.gouv.fr/?page=entreprise.EntrepriseDetailConsultation&refConsultation=351760&orgAcronyme=l2m', 'https://www.marches-publics.gouv.fr/?page=entreprise.EntrepriseDetailConsultation&refConsultation=352024&orgAcronyme=s2d', 'https://www.marches-publics.gouv.fr/?page=entreprise.EntrepriseDetailConsultation&refConsultation=352395&orgAcronyme=d2v', 'https://www.marches-publics.gouv.fr/?page=entreprise.EntrepriseDetailConsultation&refConsultation=351877&orgAcronyme=f2h', 'https://www.marches-publics.gouv.fr/?page=entreprise.EntrepriseDetailConsultation&refConsultation=351957&orgAcronyme=d4t', 'https://www.marches-publics.gouv.fr/?page=entreprise.EntrepriseDetailConsultation&refConsultation=348853&orgAcronyme=g7h', 'https://www.marches-publics.gouv.fr/?page=entreprise.EntrepriseDetailConsultation&refConsultation=352553&orgAcronyme=x7c', 'https://www.marches-publics.gouv.fr/?page=entreprise.EntrepriseDetailConsultation&refConsultation=350377&orgAcronyme=h8j', 'https://www.marches-publics.gouv.fr/?page=entreprise.EntrepriseDetailConsultation&refConsultation=348910&orgAcronyme=h8j', 'https://www.marches-publics.gouv.fr/?page=entreprise.EntrepriseDetailConsultation&refConsultation=349252&orgAcronyme=s2d', 'https://www.marches-publics.gouv.fr/?page=entreprise.EntrepriseDetailConsultation&refConsultation=349434&orgAcronyme=s2d', 'https://www.marches-publics.gouv.fr/?page=entreprise.EntrepriseDetailConsultation&refConsultation=351343&orgAcronyme=d2v', 'https://www.marches-publics.gouv.fr/?page=entreprise.EntrepriseDetailConsultation&refConsultation=352019&orgAcronyme=f2h', 'https://www.marches-publics.gouv.fr/?page=entreprise.EntrepriseDetailConsultation&refConsultation=353225&orgAcronyme=g6l', 'https://www.marches-publics.gouv.fr/?page=entreprise.EntrepriseDetailConsultation&refConsultation=353273&orgAcronyme=d3f', 'https://www.marches-publics.gouv.fr/?page=entreprise.EntrepriseDetailConsultation&refConsultation=348098&orgAcronyme=x7c', 'https://www.marches-publics.gouv.fr/?page=entreprise.EntrepriseDetailConsultation&refConsultation=350848&orgAcronyme=x7c', 'https://www.marches-publics.gouv.fr/?page=entreprise.EntrepriseDetailConsultation&refConsultation=350179&orgAcronyme=g7h', 'https://www.marches-publics.gouv.fr/?page=entreprise.EntrepriseDetailConsultation&refConsultation=350919&orgAcronyme=g7h', 'https://www.marches-publics.gouv.fr/?page=entreprise.EntrepriseDetailConsultation&refConsultation=352692&orgAcronyme=a4n', 'https://www.marches-publics.gouv.fr/?page=entreprise.EntrepriseDetailConsultation&refConsultation=351824&orgAcronyme=d3f', 'https://www.marches-publics.gouv.fr/?page=entreprise.EntrepriseDetailConsultation&refConsultation=336578&orgAcronyme=g6l', 'https://www.marches-publics.gouv.fr/?page=entreprise.EntrepriseDetailConsultation&refConsultation=351961&orgAcronyme=l2m', 'https://www.marches-publics.gouv.fr/?page=entreprise.EntrepriseDetailConsultation&refConsultation=351498&orgAcronyme=g7h', 'https://www.marches-publics.gouv.fr/?page=entreprise.EntrepriseDetailConsultation&refConsultation=347401&orgAcronyme=x7c', 'https://www.marches-publics.gouv.fr/?page=entreprise.EntrepriseDetailConsultation&refConsultation=352685&orgAcronyme=h8j', 'https://www.marches-publics.gouv.fr/?page=entreprise.EntrepriseDetailConsultation&refConsultation=351059&orgAcronyme=d4t', 'https://www.marches-publics.gouv.fr/?page=entreprise.EntrepriseDetailConsultation&refConsultation=352516&orgAcronyme=d3f', 'https://www.marches-publics.gouv.fr/?page=entreprise.EntrepriseDetailConsultation&refConsultation=352730&orgAcronyme=d4t', 'https://www.marches-publics.gouv.fr/?page=entreprise.EntrepriseDetailConsultation&refConsultation=351835&orgAcronyme=d4t', 'https://www.marches-publics.gouv.fr/?page=entreprise.EntrepriseDetailConsultation&refConsultation=351823&orgAcronyme=f5j', 'https://www.marches-publics.gouv.fr/?page=entreprise.EntrepriseDetailConsultation&refConsultation=350176&orgAcronyme=g7h', 'https://www.marches-publics.gouv.fr/?page=entreprise.EntrepriseDetailConsultation&refConsultation=352833&orgAcronyme=g7h', 'https://www.marches-publics.gouv.fr/?page=entreprise.EntrepriseDetailConsultation&refConsultation=351959&orgAcronyme=x7c', 'https://www.marches-publics.gouv.fr/?page=entreprise.EntrepriseDetailConsultation&refConsultation=351699&orgAcronyme=d3f', 'https://www.marches-publics.gouv.fr/?page=entreprise.EntrepriseDetailConsultation&refConsultation=350601&orgAcronyme=c8v', 'https://www.marches-publics.gouv.fr/?page=entreprise.EntrepriseDetailConsultation&refConsultation=351772&orgAcronyme=g6l', 'https://www.marches-publics.gouv.fr/?page=entreprise.EntrepriseDetailConsultation&refConsultation=351628&orgAcronyme=d4t', 'https://www.marches-publics.gouv.fr/?page=entreprise.EntrepriseDetailConsultation&refConsultation=349581&orgAcronyme=f2h', 'https://www.marches-publics.gouv.fr/?page=entreprise.EntrepriseDetailConsultation&refConsultation=353388&orgAcronyme=a4n', 'https://www.marches-publics.gouv.fr/?page=entreprise.EntrepriseDetailConsultation&refConsultation=353169&orgAcronyme=g7h', 'https://www.marches-publics.gouv.fr/?page=entreprise.EntrepriseDetailConsultation&refConsultation=351368&orgAcronyme=s2d', 'https://www.marches-publics.gouv.fr/?page=entreprise.EntrepriseDetailConsultation&refConsultation=352492&orgAcronyme=g6l', 'https://www.marches-publics.gouv.fr/?page=entreprise.EntrepriseDetailConsultation&refConsultation=351810&orgAcronyme=g6l', 'https://www.marches-publics.gouv.fr/?page=entreprise.EntrepriseDetailConsultation&refConsultation=350632&orgAcronyme=f2h', 'https://www.marches-publics.gouv.fr/?page=entreprise.EntrepriseDetailConsultation&refConsultation=350812&orgAcronyme=x7c', 'https://www.marches-publics.gouv.fr/?page=entreprise.EntrepriseDetailConsultation&refConsultation=351053&orgAcronyme=g7h', 'https://www.marches-publics.gouv.fr/?page=entreprise.EntrepriseDetailConsultation&refConsultation=346964&orgAcronyme=x7c', 'https://www.marches-publics.gouv.fr/?page=entreprise.EntrepriseDetailConsultation&refConsultation=352880&orgAcronyme=d4t', 'https://www.marches-publics.gouv.fr/?page=entreprise.EntrepriseDetailConsultation&refConsultation=352777&orgAcronyme=x7c', 'https://www.marches-publics.gouv.fr/?page=entreprise.EntrepriseDetailConsultation&refConsultation=349991&orgAcronyme=g6l', 'https://www.marches-publics.gouv.fr/?page=entreprise.EntrepriseDetailConsultation&refConsultation=351799&orgAcronyme=f2h', 'https://www.marches-publics.gouv.fr/?page=entreprise.EntrepriseDetailConsultation&refConsultation=353446&orgAcronyme=d4t', 'https://www.marches-publics.gouv.fr/?page=entreprise.EntrepriseDetailConsultation&refConsultation=348045&orgAcronyme=w3x', 'https://www.marches-publics.gouv.fr/?page=entreprise.EntrepriseDetailConsultation&refConsultation=331956&orgAcronyme=g7h', 'https://www.marches-publics.gouv.fr/?page=entreprise.EntrepriseDetailConsultation&refConsultation=352732&orgAcronyme=x7c', 'https://www.marches-publics.gouv.fr/?page=entreprise.EntrepriseDetailConsultation&refConsultation=351664&orgAcronyme=d4t', 'https://www.marches-publics.gouv.fr/?page=entreprise.EntrepriseDetailConsultation&refConsultation=350128&orgAcronyme=x7c', 'https://www.marches-publics.gouv.fr/?page=entreprise.EntrepriseDetailConsultation&refConsultation=351055&orgAcronyme=d4t', 'https://www.marches-publics.gouv.fr/?page=entreprise.EntrepriseDetailConsultation&refConsultation=350066&orgAcronyme=x7c', 'https://www.marches-publics.gouv.fr/?page=entreprise.EntrepriseDetailConsultation&refConsultation=349708&orgAcronyme=x7c', 'https://www.marches-publics.gouv.fr/?page=entreprise.EntrepriseDetailConsultation&refConsultation=347665&orgAcronyme=x7c', 'https://www.marches-publics.gouv.fr/?page=entreprise.EntrepriseDetailConsultation&refConsultation=352103&orgAcronyme=d3f', 'https://www.marches-publics.gouv.fr/?page=entreprise.EntrepriseDetailConsultation&refConsultation=349839&orgAcronyme=s2d', 'https://www.marches-publics.gouv.fr/?page=entreprise.EntrepriseDetailConsultation&refConsultation=352513&orgAcronyme=s2d', 'https://www.marches-publics.gouv.fr/?page=entreprise.EntrepriseDetailConsultation&refConsultation=351610&orgAcronyme=d3f', 'https://www.marches-publics.gouv.fr/?page=entreprise.EntrepriseDetailConsultation&refConsultation=351660&orgAcronyme=f5j', 'https://www.marches-publics.gouv.fr/?page=entreprise.EntrepriseDetailConsultation&refConsultation=353227&orgAcronyme=a4n', 'https://www.marches-publics.gouv.fr/?page=entreprise.EntrepriseDetailConsultation&refConsultation=327100&orgAcronyme=d4t', 'https://www.marches-publics.gouv.fr/?page=entreprise.EntrepriseDetailConsultation&refConsultation=351759&orgAcronyme=h8j', 'https://www.marches-publics.gouv.fr/?page=entreprise.EntrepriseDetailConsultation&refConsultation=351445&orgAcronyme=f2h', 'https://www.marches-publics.gouv.fr/?page=entreprise.EntrepriseDetailConsultation&refConsultation=352116&orgAcronyme=g7h', 'https://www.marches-publics.gouv.fr/?page=entreprise.EntrepriseDetailConsultation&refConsultation=350555&orgAcronyme=d4t', 'https://www.marches-publics.gouv.fr/?page=entreprise.EntrepriseDetailConsultation&refConsultation=351075&orgAcronyme=f2h', 'https://www.marches-publics.gouv.fr/?page=entreprise.EntrepriseDetailConsultation&refConsultation=350326&orgAcronyme=s2d', 'https://www.marches-publics.gouv.fr/?page=entreprise.EntrepriseDetailConsultation&refConsultation=353325&orgAcronyme=f5j', 'https://www.marches-publics.gouv.fr/?page=entreprise.EntrepriseDetailConsultation&refConsultation=353663&orgAcronyme=f2h', 'https://www.marches-publics.gouv.fr/?page=entreprise.EntrepriseDetailConsultation&refConsultation=351804&orgAcronyme=x7c', 'https://www.marches-publics.gouv.fr/?page=entreprise.EntrepriseDetailConsultation&refConsultation=350163&orgAcronyme=x7c', 'https://www.marches-publics.gouv.fr/?page=entreprise.EntrepriseDetailConsultation&refConsultation=351795&orgAcronyme=x7c', 'https://www.marches-publics.gouv.fr/?page=entreprise.EntrepriseDetailConsultation&refConsultation=351522&orgAcronyme=d4t', 'https://www.marches-publics.gouv.fr/?page=entreprise.EntrepriseDetailConsultation&refConsultation=353302&orgAcronyme=b4n', 'https://www.marches-publics.gouv.fr/?page=entreprise.EntrepriseDetailConsultation&refConsultation=351030&orgAcronyme=d3f', 'https://www.marches-publics.gouv.fr/?page=entreprise.EntrepriseDetailConsultation&refConsultation=348168&orgAcronyme=x7c', 'https://www.marches-publics.gouv.fr/?page=entreprise.EntrepriseDetailConsultation&refConsultation=349763&orgAcronyme=x7c', 'https://www.marches-publics.gouv.fr/?page=entreprise.EntrepriseDetailConsultation&refConsultation=353117&orgAcronyme=w3x', 'https://www.marches-publics.gouv.fr/?page=entreprise.EntrepriseDetailConsultation&refConsultation=344823&orgAcronyme=x7c', 'https://www.marches-publics.gouv.fr/?page=entreprise.EntrepriseDetailConsultation&refConsultation=353814&orgAcronyme=g6l', 'https://www.marches-publics.gouv.fr/?page=entreprise.EntrepriseDetailConsultation&refConsultation=349273&orgAcronyme=x7c', 'https://www.marches-publics.gouv.fr/?page=entreprise.EntrepriseDetailConsultation&refConsultation=352659&orgAcronyme=d4t', 'https://www.marches-publics.gouv.fr/?page=entreprise.EntrepriseDetailConsultation&refConsultation=348766&orgAcronyme=h8j', 'https://www.marches-publics.gouv.fr/?page=entreprise.EntrepriseDetailConsultation&refConsultation=352501&orgAcronyme=f2h', 'https://www.marches-publics.gouv.fr/?page=entreprise.EntrepriseDetailConsultation&refConsultation=352754&orgAcronyme=b4n', 'https://www.marches-publics.gouv.fr/?page=entreprise.EntrepriseDetailConsultation&refConsultation=351661&orgAcronyme=g7h', 'https://www.marches-publics.gouv.fr/?page=entreprise.EntrepriseDetailConsultation&refConsultation=352280&orgAcronyme=a4n', 'https://www.marches-publics.gouv.fr/?page=entreprise.EntrepriseDetailConsultation&refConsultation=351064&orgAcronyme=f2h', 'https://www.marches-publics.gouv.fr/?page=entreprise.EntrepriseDetailConsultation&refConsultation=351398&orgAcronyme=s2d', 'https://www.marches-publics.gouv.fr/?page=entreprise.EntrepriseDetailConsultation&refConsultation=352962&orgAcronyme=g7h', 'https://www.marches-publics.gouv.fr/?page=entreprise.EntrepriseDetailConsultation&refConsultation=349515&orgAcronyme=s2d', 'https://www.marches-publics.gouv.fr/?page=entreprise.EntrepriseDetailConsultation&refConsultation=351676&orgAcronyme=x7c', 'https://www.marches-publics.gouv.fr/?page=entreprise.EntrepriseDetailConsultation&refConsultation=352425&orgAcronyme=d4t', 'https://www.marches-publics.gouv.fr/?page=entreprise.EntrepriseDetailConsultation&refConsultation=351425&orgAcronyme=s2d', 'https://www.marches-publics.gouv.fr/?page=entreprise.EntrepriseDetailConsultation&refConsultation=347532&orgAcronyme=g7h', 'https://www.marches-publics.gouv.fr/?page=entreprise.EntrepriseDetailConsultation&refConsultation=351468&orgAcronyme=d3f'] found multiple times\n"
     ]
    }
   ],
   "source": [
    "links = fetch.fetch_current_annonces()"
   ]
  },
  {
   "cell_type": "code",
   "execution_count": 28,
   "metadata": {},
   "outputs": [
    {
     "data": {
      "text/plain": [
       "2298"
      ]
     },
     "execution_count": 28,
     "metadata": {},
     "output_type": "execute_result"
    }
   ],
   "source": [
    "len(links)"
   ]
  },
  {
   "cell_type": "code",
   "execution_count": null,
   "metadata": {},
   "outputs": [],
   "source": [
    "for link in links:\n",
    "    print(link)\n",
    "    process_link(link, connection, cursor)"
   ]
  },
  {
   "cell_type": "code",
   "execution_count": 25,
   "metadata": {},
   "outputs": [],
   "source": [
    "cursor.close()\n",
    "connection.close()"
   ]
  },
  {
   "cell_type": "code",
   "execution_count": 30,
   "metadata": {},
   "outputs": [
    {
     "data": {
      "text/plain": [
       "'https://www.marches-publics.gouv.fr/?page=entreprise.EntrepriseDetailConsultation&refConsultation=318256&orgAcronyme=h8j'"
      ]
     },
     "execution_count": 30,
     "metadata": {},
     "output_type": "execute_result"
    }
   ],
   "source": [
    "link"
   ]
  },
  {
   "cell_type": "code",
   "execution_count": null,
   "metadata": {},
   "outputs": [],
   "source": []
  }
 ],
 "metadata": {
  "kernelspec": {
   "display_name": "Python 3",
   "language": "python",
   "name": "python3"
  },
  "language_info": {
   "codemirror_mode": {
    "name": "ipython",
    "version": 3
   },
   "file_extension": ".py",
   "mimetype": "text/x-python",
   "name": "python",
   "nbconvert_exporter": "python",
   "pygments_lexer": "ipython3",
   "version": "3.5.3"
  }
 },
 "nbformat": 4,
 "nbformat_minor": 2
}
