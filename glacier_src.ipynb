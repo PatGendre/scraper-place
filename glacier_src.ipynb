{
 "cells": [
  {
   "cell_type": "code",
   "execution_count": 4,
   "metadata": {},
   "outputs": [],
   "source": [
    "import json\n",
    "\n",
    "import psycopg2\n",
    "import boto3\n",
    "\n",
    "from scraper_place.config import CONFIG_DATABASE, CONFIG_FILE_STORAGE, CONFIG_AWS_GLACIER, STATE_FETCH_OK, STATE_GLACIER_OK"
   ]
  },
  {
   "cell_type": "code",
   "execution_count": null,
   "metadata": {},
   "outputs": [],
   "source": [
    "def save():"
   ]
  },
  {
   "cell_type": "code",
   "execution_count": 15,
   "metadata": {},
   "outputs": [],
   "source": [
    "# Open connection\n",
    "connection = psycopg2.connect(\n",
    "    dbname=CONFIG_DATABASE['name'],\n",
    "    user=CONFIG_DATABASE['username'],\n",
    "    password=CONFIG_DATABASE['password'],\n",
    ")\n",
    "cursor = connection.cursor()"
   ]
  },
  {
   "cell_type": "code",
   "execution_count": 22,
   "metadata": {},
   "outputs": [],
   "source": [
    "cursor.execute(\n",
    "    \"\"\"\n",
    "    SELECT annonce_id, org_acronym, intitule,\n",
    "           filename_reglement, filename_avis, filename_dce\n",
    "    FROM dce\n",
    "    WHERE state = %s \n",
    "    ;\"\"\",\n",
    "    (STATE_FETCH_OK, )\n",
    ")\n"
   ]
  },
  {
   "cell_type": "code",
   "execution_count": null,
   "metadata": {},
   "outputs": [],
   "source": [
    "client = boto3.client(\n",
    "    'glacier',\n",
    "    aws_access_key_id=CONFIG_AWS_GLACIER['aws_access_key_id'],\n",
    "    aws_secret_access_key=CONFIG_AWS_GLACIER['aws_secret_access_key'],\n",
    "    region_name=CONFIG_AWS_GLACIER['region_name'],\n",
    ")\n",
    "client"
   ]
  },
  {
   "cell_type": "code",
   "execution_count": 24,
   "metadata": {},
   "outputs": [],
   "source": [
    "dce_data_list = cursor.fetchall()\n",
    "for dce_data in dce_data_list:\n",
    "    annonce_id, org_acronym, intitule, filename_reglement, filename_avis, filename_dce = dce_data"
   ]
  },
  {
   "cell_type": "code",
   "execution_count": null,
   "metadata": {},
   "outputs": [],
   "source": [
    "response = client.upload_archive(\n",
    "    vaultName=CONFIG_AWS_GLACIER['vault_name'],\n",
    "    archiveDescription='Sample archive 1',\n",
    "    body=\"Salut ça va ?\".encode('UTF-8'),\n",
    ")\n",
    "pprint_json(response)"
   ]
  },
  {
   "cell_type": "code",
   "execution_count": null,
   "metadata": {},
   "outputs": [],
   "source": []
  },
  {
   "cell_type": "code",
   "execution_count": null,
   "metadata": {},
   "outputs": [],
   "source": []
  },
  {
   "cell_type": "code",
   "execution_count": null,
   "metadata": {},
   "outputs": [],
   "source": [
    "def move_to_public_dir():"
   ]
  },
  {
   "cell_type": "code",
   "execution_count": null,
   "metadata": {},
   "outputs": [],
   "source": []
  },
  {
   "cell_type": "code",
   "execution_count": 14,
   "metadata": {},
   "outputs": [],
   "source": [
    "cursor.close()\n",
    "connection.close()"
   ]
  },
  {
   "cell_type": "code",
   "execution_count": null,
   "metadata": {},
   "outputs": [],
   "source": []
  }
 ],
 "metadata": {
  "kernelspec": {
   "display_name": "Python 3",
   "language": "python",
   "name": "python3"
  },
  "language_info": {
   "codemirror_mode": {
    "name": "ipython",
    "version": 3
   },
   "file_extension": ".py",
   "mimetype": "text/x-python",
   "name": "python",
   "nbconvert_exporter": "python",
   "pygments_lexer": "ipython3",
   "version": "3.6.3"
  }
 },
 "nbformat": 4,
 "nbformat_minor": 2
}
