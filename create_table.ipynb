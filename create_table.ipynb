{
 "cells": [
  {
   "cell_type": "code",
   "execution_count": 1,
   "metadata": {},
   "outputs": [],
   "source": [
    "import configparser\n",
    "import os\n",
    "\n",
    "import psycopg2"
   ]
  },
  {
   "cell_type": "code",
   "execution_count": 2,
   "metadata": {},
   "outputs": [
    {
     "data": {
      "text/plain": [
       "'/home/michel/scraper-place'"
      ]
     },
     "execution_count": 2,
     "metadata": {},
     "output_type": "execute_result"
    }
   ],
   "source": [
    "#base_dir = os.path.dirname(os.path.realpath(__file__))\n",
    "base_dir = os.getcwd()  # notebook\n",
    "base_dir"
   ]
  },
  {
   "cell_type": "code",
   "execution_count": 3,
   "metadata": {},
   "outputs": [],
   "source": [
    "# Read config\n",
    "\n",
    "config = configparser.ConfigParser()\n",
    "config_path = os.path.join(base_dir, 'config.ini')\n",
    "config.read(config_path)\n",
    "database_host = config['database']['host']\n",
    "database_port = config['database']['port']\n",
    "database_name = config['database']['name']\n",
    "database_username = config['database']['username']\n",
    "database_password = config['database']['password']\n",
    "assert database_host == 'localhost'\n",
    "assert database_port == '1234'"
   ]
  },
  {
   "cell_type": "markdown",
   "metadata": {},
   "source": [
    "# Create an empty table \"dce\""
   ]
  },
  {
   "cell_type": "code",
   "execution_count": 18,
   "metadata": {},
   "outputs": [],
   "source": [
    "# Open connection\n",
    "connection = psycopg2.connect(dbname=database_name, user=database_username, password=database_password)\n",
    "cursor = connection.cursor()"
   ]
  },
  {
   "cell_type": "code",
   "execution_count": 19,
   "metadata": {},
   "outputs": [],
   "source": [
    "table_name = 'dce'\n",
    "cursor.execute('create table dce ();')"
   ]
  },
  {
   "cell_type": "code",
   "execution_count": 20,
   "metadata": {},
   "outputs": [],
   "source": [
    "cursor.execute('alter table dce add column annonce_id varchar;')\n",
    "cursor.execute('alter table dce add column org_acronym varchar;')\n",
    "cursor.execute('alter table dce add column link_boamp varchar;')\n",
    "cursor.execute('alter table dce add column reference varchar;')\n",
    "cursor.execute('alter table dce add column intitule varchar;')\n",
    "cursor.execute('alter table dce add column objet varchar;')\n",
    "cursor.execute('alter table dce add column reglement_ref varchar;')\n",
    "cursor.execute('alter table dce add column filename_reglement varchar;')\n",
    "cursor.execute('alter table dce add column filename_dce varchar;')\n",
    "cursor.execute('alter table dce add column fetch_datetime timestamp with time zone;')\n",
    "cursor.execute('alter table dce add column reglement bytea;')\n",
    "cursor.execute('alter table dce add column dce bytea;')"
   ]
  },
  {
   "cell_type": "code",
   "execution_count": 21,
   "metadata": {},
   "outputs": [],
   "source": [
    "cursor.execute('create unique index  on dce (annonce_id, org_acronym);')"
   ]
  },
  {
   "cell_type": "code",
   "execution_count": 15,
   "metadata": {},
   "outputs": [],
   "source": [
    "#cursor.execute('drop table dce;')"
   ]
  },
  {
   "cell_type": "code",
   "execution_count": 22,
   "metadata": {},
   "outputs": [],
   "source": [
    "connection.commit()"
   ]
  },
  {
   "cell_type": "code",
   "execution_count": 23,
   "metadata": {},
   "outputs": [],
   "source": [
    "cursor.close()\n",
    "connection.close()"
   ]
  },
  {
   "cell_type": "code",
   "execution_count": null,
   "metadata": {},
   "outputs": [],
   "source": []
  }
 ],
 "metadata": {
  "kernelspec": {
   "display_name": "Python 3",
   "language": "python",
   "name": "python3"
  },
  "language_info": {
   "codemirror_mode": {
    "name": "ipython",
    "version": 3
   },
   "file_extension": ".py",
   "mimetype": "text/x-python",
   "name": "python",
   "nbconvert_exporter": "python",
   "pygments_lexer": "ipython3",
   "version": "3.5.3"
  }
 },
 "nbformat": 4,
 "nbformat_minor": 2
}
