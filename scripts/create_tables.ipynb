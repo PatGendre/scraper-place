{
 "cells": [
  {
   "cell_type": "code",
   "execution_count": null,
   "metadata": {},
   "outputs": [],
   "source": [
    "import psycopg2\n",
    "\n",
    "from scraper_place.config import CONFIG_DATABASE"
   ]
  },
  {
   "cell_type": "markdown",
   "metadata": {},
   "source": [
    "# Create an empty table \"dce\""
   ]
  },
  {
   "cell_type": "code",
   "execution_count": null,
   "metadata": {},
   "outputs": [],
   "source": [
    "# Open connection\n",
    "connection = psycopg2.connect(\n",
    "    dbname=CONFIG_DATABASE['name'],\n",
    "    user=CONFIG_DATABASE['username'],\n",
    "    password=CONFIG_DATABASE['password'],\n",
    ")\n",
    "cursor = connection.cursor()"
   ]
  },
  {
   "cell_type": "code",
   "execution_count": null,
   "metadata": {},
   "outputs": [],
   "source": [
    "table_name = 'dce'\n",
    "cursor.execute('create table dce ();')"
   ]
  },
  {
   "cell_type": "markdown",
   "metadata": {},
   "source": [
    "Metadata on the DCE"
   ]
  },
  {
   "cell_type": "code",
   "execution_count": null,
   "metadata": {},
   "outputs": [],
   "source": [
    "cursor.execute('alter table dce add column annonce_id text;')\n",
    "cursor.execute('alter table dce add column org_acronym text;')\n",
    "cursor.execute('alter table dce add column links_boamp text[];')\n",
    "cursor.execute('alter table dce add column reference text;')\n",
    "cursor.execute('alter table dce add column intitule text;')\n",
    "cursor.execute('alter table dce add column objet text;')\n",
    "cursor.execute('alter table dce add column reglement_ref text;')"
   ]
  },
  {
   "cell_type": "markdown",
   "metadata": {},
   "source": [
    "Filenames constituting the DCE"
   ]
  },
  {
   "cell_type": "code",
   "execution_count": null,
   "metadata": {},
   "outputs": [],
   "source": [
    "cursor.execute('alter table dce add column filename_reglement text;')\n",
    "cursor.execute('alter table dce add column filename_complement text;')\n",
    "cursor.execute('alter table dce add column filename_avis text;')\n",
    "cursor.execute('alter table dce add column filename_dce text;')"
   ]
  },
  {
   "cell_type": "markdown",
   "metadata": {},
   "source": [
    "Size of the files"
   ]
  },
  {
   "cell_type": "code",
   "execution_count": null,
   "metadata": {},
   "outputs": [],
   "source": [
    "cursor.execute('alter table dce add column file_size_reglement bigint;')\n",
    "cursor.execute('alter table dce add column file_size_complement bigint;')\n",
    "cursor.execute('alter table dce add column file_size_avis bigint;')\n",
    "cursor.execute('alter table dce add column file_size_dce bigint;')"
   ]
  },
  {
   "cell_type": "markdown",
   "metadata": {},
   "source": [
    "Fetch date"
   ]
  },
  {
   "cell_type": "code",
   "execution_count": null,
   "metadata": {},
   "outputs": [],
   "source": [
    "cursor.execute('alter table dce add column fetch_datetime timestamp with time zone;')"
   ]
  },
  {
   "cell_type": "markdown",
   "metadata": {},
   "source": [
    "AWS Glacier archive ids"
   ]
  },
  {
   "cell_type": "code",
   "execution_count": null,
   "metadata": {},
   "outputs": [],
   "source": [
    "cursor.execute('alter table dce add column glacier_id_reglement text;')\n",
    "cursor.execute('alter table dce add column glacier_id_complement text;')\n",
    "cursor.execute('alter table dce add column glacier_id_avis text;')\n",
    "cursor.execute('alter table dce add column glacier_id_dce text;')"
   ]
  },
  {
   "cell_type": "markdown",
   "metadata": {},
   "source": [
    "The state of the processing of the DCE"
   ]
  },
  {
   "cell_type": "code",
   "execution_count": null,
   "metadata": {},
   "outputs": [],
   "source": [
    "cursor.execute('alter table dce add column state text;')"
   ]
  },
  {
   "cell_type": "markdown",
   "metadata": {},
   "source": [
    "The DCE can be queried by name and by state"
   ]
  },
  {
   "cell_type": "code",
   "execution_count": null,
   "metadata": {},
   "outputs": [],
   "source": [
    "cursor.execute('create unique index on dce (annonce_id, org_acronym);')"
   ]
  },
  {
   "cell_type": "code",
   "execution_count": null,
   "metadata": {},
   "outputs": [],
   "source": [
    "cursor.execute('create index on dce (state);')"
   ]
  },
  {
   "cell_type": "code",
   "execution_count": null,
   "metadata": {},
   "outputs": [],
   "source": [
    "#cursor.execute('drop table dce;')"
   ]
  },
  {
   "cell_type": "code",
   "execution_count": null,
   "metadata": {},
   "outputs": [],
   "source": [
    "connection.commit()"
   ]
  },
  {
   "cell_type": "code",
   "execution_count": null,
   "metadata": {},
   "outputs": [],
   "source": [
    "cursor.close()\n",
    "connection.close()"
   ]
  },
  {
   "cell_type": "code",
   "execution_count": null,
   "metadata": {},
   "outputs": [],
   "source": []
  }
 ],
 "metadata": {
  "kernelspec": {
   "display_name": "Python 3",
   "language": "python",
   "name": "python3"
  },
  "language_info": {
   "codemirror_mode": {
    "name": "ipython",
    "version": 3
   },
   "file_extension": ".py",
   "mimetype": "text/x-python",
   "name": "python",
   "nbconvert_exporter": "python",
   "pygments_lexer": "ipython3",
   "version": "3.6.3"
  }
 },
 "nbformat": 4,
 "nbformat_minor": 2
}
