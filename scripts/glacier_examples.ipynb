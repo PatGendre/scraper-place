{
 "cells": [
  {
   "cell_type": "markdown",
   "metadata": {},
   "source": [
    "# AWS Glacier cheatsheet"
   ]
  },
  {
   "cell_type": "code",
   "execution_count": null,
   "metadata": {},
   "outputs": [],
   "source": [
    "import json\n",
    "\n",
    "import boto3"
   ]
  },
  {
   "cell_type": "code",
   "execution_count": null,
   "metadata": {},
   "outputs": [],
   "source": [
    "from scraper_place.config import CONFIG_AWS_GLACIER"
   ]
  },
  {
   "cell_type": "code",
   "execution_count": null,
   "metadata": {},
   "outputs": [],
   "source": [
    "def pprint_json(data):\n",
    "    print(json.dumps(data, indent=4))"
   ]
  },
  {
   "cell_type": "code",
   "execution_count": null,
   "metadata": {},
   "outputs": [],
   "source": [
    "client = boto3.client(\n",
    "    'glacier',\n",
    "    aws_access_key_id=CONFIG_AWS_GLACIER['aws_access_key_id'],\n",
    "    aws_secret_access_key=CONFIG_AWS_GLACIER['aws_secret_access_key'],\n",
    "    region_name=CONFIG_AWS_GLACIER['region_name'],\n",
    ")\n",
    "client"
   ]
  },
  {
   "cell_type": "code",
   "execution_count": null,
   "metadata": {},
   "outputs": [],
   "source": [
    "response = client.describe_vault(\n",
    "    vaultName=CONFIG_AWS_GLACIER['vault_name'],\n",
    ")\n",
    "pprint_json(response)"
   ]
  },
  {
   "cell_type": "code",
   "execution_count": null,
   "metadata": {},
   "outputs": [],
   "source": [
    "response = client.upload_archive(\n",
    "    vaultName=CONFIG_AWS_GLACIER['vault_name'],\n",
    "    archiveDescription='Sample archive 1',\n",
    "    body=\"Salut ça va ?\".encode('UTF-8'),\n",
    ")\n",
    "pprint_json(response)"
   ]
  },
  {
   "cell_type": "code",
   "execution_count": null,
   "metadata": {},
   "outputs": [],
   "source": [
    "response = client.initiate_job(\n",
    "    vaultName=CONFIG_AWS_GLACIER['vault_name'],\n",
    "    jobParameters={\n",
    "        'Description': 'My inventory job',\n",
    "        'Type': 'inventory-retrieval',\n",
    "    },\n",
    ")\n",
    "pprint_json(response)"
   ]
  },
  {
   "cell_type": "code",
   "execution_count": null,
   "metadata": {},
   "outputs": [],
   "source": [
    "response = client.initiate_job(\n",
    "    vaultName=CONFIG_AWS_GLACIER['vault_name'],\n",
    "    jobParameters={\n",
    "        'Description': 'My archive retrieval job',\n",
    "        'Type': 'archive-retrieval',\n",
    "        'ArchiveId': 'ahZWHMHua12O8QJ5XFsFHvSEz9b9kBY4w9v6tSIrvDlGREc0nEve5UxhE0_E8MA6cajEwM6xUa45Bub2K-9z0qLns27zjtCRjgH1vbkCpvOeZaMOTP9nCjznsBygL_BDBOT6OptYeA',\n",
    "        'Tier': 'Expedited'  # Expedited, Standard, Bulk,\n",
    "    },\n",
    ")\n",
    "pprint_json(response)"
   ]
  },
  {
   "cell_type": "code",
   "execution_count": null,
   "metadata": {},
   "outputs": [],
   "source": [
    "response = client.list_jobs(\n",
    "    vaultName=CONFIG_AWS_GLACIER['vault_name'],\n",
    ")\n",
    "pprint_json(response)"
   ]
  },
  {
   "cell_type": "code",
   "execution_count": null,
   "metadata": {},
   "outputs": [],
   "source": [
    "response = client.describe_job(\n",
    "    vaultName=CONFIG_AWS_GLACIER['vault_name'],\n",
    "    jobId='2JB-d9Y0vC5-rB4CYPM8aCuMekC-BuYUXwgN6l4ke1b5rE1fYYb5bHurF8txhbTtoFjbmjSMu2wMpZzLNl6UgyGHWomI',\n",
    ")\n",
    "pprint_json(response)"
   ]
  },
  {
   "cell_type": "code",
   "execution_count": null,
   "metadata": {},
   "outputs": [],
   "source": [
    "response = client.get_job_output(\n",
    "    vaultName=CONFIG_AWS_GLACIER['vault_name'],\n",
    "    jobId='2JB-d9Y0vC5-rB4CYPM8aCuMekC-BuYUXwgN6l4ke1b5rE1fYYb5bHurF8txhbTtoFjbmjSMu2wMpZzLNl6UgyGHWomI',\n",
    ")\n",
    "response, response['body'].read().decode('UTF-8')"
   ]
  },
  {
   "cell_type": "code",
   "execution_count": null,
   "metadata": {},
   "outputs": [],
   "source": [
    "response = client.delete_archive(\n",
    "    vaultName=CONFIG_AWS_GLACIER['vault_name'],\n",
    "    archiveId='ahZWHMHua12O8QJ5XFsFHvSEz9b9kBY4w9v6tSIrvDlGREc0nEve5UxhE0_E8MA6cajEwM6xUa45Bub2K-9z0qLns27zjtCRjgH1vbkCpvOeZaMOTP9nCjznsBygL_BDBOT6OptYeA',\n",
    ")\n",
    "pprint_json(response)"
   ]
  },
  {
   "cell_type": "code",
   "execution_count": null,
   "metadata": {},
   "outputs": [],
   "source": []
  }
 ],
 "metadata": {
  "kernelspec": {
   "display_name": "Python 3",
   "language": "python",
   "name": "python3"
  },
  "language_info": {
   "codemirror_mode": {
    "name": "ipython",
    "version": 3
   },
   "file_extension": ".py",
   "mimetype": "text/x-python",
   "name": "python",
   "nbconvert_exporter": "python",
   "pygments_lexer": "ipython3",
   "version": "3.6.3"
  }
 },
 "nbformat": 4,
 "nbformat_minor": 2
}
