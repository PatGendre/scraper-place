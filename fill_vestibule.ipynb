{
 "cells": [
  {
   "cell_type": "code",
   "execution_count": null,
   "metadata": {},
   "outputs": [],
   "source": [
    "import psycopg2\n",
    "\n",
    "from scraper_place.config import CONFIG_DATABASE, CONFIG_ENV\n",
    "from scraper_place import fetch"
   ]
  },
  {
   "cell_type": "code",
   "execution_count": null,
   "metadata": {},
   "outputs": [],
   "source": [
    "def fill_vestibule()\n",
    "\n",
    "    # Open connection\n",
    "    connection = psycopg2.connect(\n",
    "        dbname=CONFIG_DATABASE['name'],\n",
    "        user=CONFIG_DATABASE['username'],\n",
    "        password=CONFIG_DATABASE['password'],\n",
    "    )\n",
    "    cursor = connection.cursor()\n",
    "\n",
    "    if CONFIG_ENV['production']:\n",
    "        nb_pages = 0\n",
    "    else:\n",
    "        nb_pages = 1\n",
    "\n",
    "    links = fetch.fetch_current_annonces(nb_pages=1)\n",
    "\n",
    "    nb_processed = 0\n",
    "    for link in links:\n",
    "        nb_processed += process_link(link, connection, cursor)\n",
    "    print(\"Info: Processed {} DCE\".format(nb_processed))    \n",
    "\n",
    "    cursor.close()\n",
    "    connection.close()"
   ]
  },
  {
   "cell_type": "code",
   "execution_count": null,
   "metadata": {},
   "outputs": [],
   "source": []
  }
 ],
 "metadata": {
  "kernelspec": {
   "display_name": "Python 3",
   "language": "python",
   "name": "python3"
  },
  "language_info": {
   "codemirror_mode": {
    "name": "ipython",
    "version": 3
   },
   "file_extension": ".py",
   "mimetype": "text/x-python",
   "name": "python",
   "nbconvert_exporter": "python",
   "pygments_lexer": "ipython3",
   "version": "3.6.3"
  }
 },
 "nbformat": 4,
 "nbformat_minor": 2
}
